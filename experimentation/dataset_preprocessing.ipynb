{
 "cells": [
  {
   "cell_type": "code",
   "execution_count": null,
   "metadata": {},
   "outputs": [],
   "source": [
    "import pandas as pd\n",
    "import numpy as np\n",
    "import geopandas as gpd\n",
    "import os"
   ]
  },
  {
   "cell_type": "code",
   "execution_count": null,
   "metadata": {},
   "outputs": [],
   "source": [
    "# Constant which defines the minimum number of points that need to be present\n",
    "THRESHOLD = 1000\n",
    "las_no = 'SP3479'\n",
    "las_path = '/Users/kevin/cs236g/' + las_no + '_PC_Coventry.pickle'\n",
    "pc_data = pd.read_pickle(las_path)\n",
    "# EPSG:27700\n",
    "pc_gdf = gpd.GeoDataFrame(pc_data, geometry='footprint_polygon')\n",
    "pc_gdf"
   ]
  },
  {
   "cell_type": "code",
   "execution_count": null,
   "metadata": {},
   "outputs": [],
   "source": [
    "# Select only houses whose point clouds have at least 1000 points\n",
    "pc_gdf.num_points.describe()\n",
    "print(len(pc_gdf.loc[pc_gdf.num_points > THRESHOLD]))\n",
    "pc_gdf = pc_gdf.loc[pc_gdf.num_points > THRESHOLD]"
   ]
  },
  {
   "cell_type": "code",
   "execution_count": null,
   "metadata": {},
   "outputs": [],
   "source": [
    "def sample_a_thousand_points(row):\n",
    "    \n",
    "    number_of_points_available = row['normalized_points'].shape[0] \n",
    "    select_random_subsample = np.random.randint(number_of_points_available, size=THRESHOLD)\n",
    "    subsampled_point_cloud = row['normalized_points'][select_random_subsample,:]\n",
    "    return subsampled_point_cloud"
   ]
  },
  {
   "cell_type": "code",
   "execution_count": null,
   "metadata": {},
   "outputs": [],
   "source": [
    "pc_gdf['subsampled_point_cloud'] = pc_gdf.apply(sample_a_thousand_points, axis=1)\n",
    "pc_gdf.head()"
   ]
  },
  {
   "cell_type": "code",
   "execution_count": null,
   "metadata": {},
   "outputs": [],
   "source": [
    "print(f\"Check name of active geometry column: {pc_gdf.geometry.name}\")\n",
    "print(f\"Check CRS of active geometry column: {pc_gdf.geometry.crs}\")\n",
    "pc_gdf = pc_gdf.to_crs(4326)\n",
    "print(f\"Check name of active geometry column: {pc_gdf.geometry.name}\")\n",
    "print(f\"Check CRS of active geometry column: {pc_gdf.geometry.crs}\")"
   ]
  },
  {
   "cell_type": "code",
   "execution_count": null,
   "metadata": {},
   "outputs": [],
   "source": [
    "pc_gdf['footprint_centroid'] = pc_gdf['footprint_polygon'].centroid\n",
    "pc_gdf"
   ]
  },
  {
   "cell_type": "code",
   "execution_count": null,
   "metadata": {},
   "outputs": [],
   "source": [
    "pc_gdf = pc_gdf.reset_index(drop=True)"
   ]
  },
  {
   "cell_type": "code",
   "execution_count": null,
   "metadata": {},
   "outputs": [],
   "source": [
    "for idx, row in pc_gdf.iterrows():\n",
    "    \n",
    "    print(idx)\n",
    "    lon, lat = row['footprint_centroid'].coords.xy\n",
    "    file_name = str(lon[0]) + ',' + str(lat[0])\n",
    "    path = os.path.join(\"/Users/kevin/cs236g/data/Train/\", file_name)\n",
    "    np.save(path, row['subsampled_point_cloud'])"
   ]
  },
  {
   "cell_type": "code",
   "execution_count": null,
   "metadata": {},
   "outputs": [],
   "source": []
  }
 ],
 "metadata": {
  "kernelspec": {
   "display_name": "Python 3",
   "language": "python",
   "name": "python3"
  },
  "language_info": {
   "codemirror_mode": {
    "name": "ipython",
    "version": 3
   },
   "file_extension": ".py",
   "mimetype": "text/x-python",
   "name": "python",
   "nbconvert_exporter": "python",
   "pygments_lexer": "ipython3",
   "version": "3.8.6"
  }
 },
 "nbformat": 4,
 "nbformat_minor": 5
}
