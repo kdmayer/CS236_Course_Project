{
 "cells": [
  {
   "cell_type": "code",
   "execution_count": null,
   "id": "a3f723c5",
   "metadata": {},
   "outputs": [],
   "source": [
    "import sys\n",
    "sys.path.append('/Users/kevin/Projects/CS236_Course_Project')"
   ]
  },
  {
   "cell_type": "code",
   "execution_count": null,
   "id": "42ba7cc4",
   "metadata": {},
   "outputs": [],
   "source": [
    "import plotly as plt\n",
    "import numpy as np\n",
    "import torch\n",
    "import os\n",
    "\n",
    "from src.walls_completion import complete_structures"
   ]
  },
  {
   "cell_type": "code",
   "execution_count": null,
   "id": "00f7616b",
   "metadata": {},
   "outputs": [],
   "source": [
    "DATA_DIR = \"/Users/kevin/Projects/CS236_Course_Project/E06000014_npy_normalized\"\n",
    "COMPLETE_STRUCTURE = False"
   ]
  },
  {
   "cell_type": "code",
   "execution_count": null,
   "id": "e588ec87",
   "metadata": {
    "scrolled": true
   },
   "outputs": [],
   "source": [
    "data_samples = []\n",
    "\n",
    "for idx, file in enumerate(os.listdir(DATA_DIR)):\n",
    "    \n",
    "    if file.endswith(\".npy\") and len(data_samples) < 8:\n",
    "        \n",
    "        pc_numpy = np.load(os.path.join(DATA_DIR, file))\n",
    "        \n",
    "        if COMPLETE_STRUCTURE:\n",
    "\n",
    "            try:\n",
    "                pc_numpy = complete_structures(pc_numpy)\n",
    "\n",
    "            except SystemExit as e:\n",
    "\n",
    "                if e.code == 1:\n",
    "                    print(f\"Caught {e}.  Skip file {npy_file.name} and continue with next one.\")\n",
    "                    continue\n",
    "\n",
    "                else:\n",
    "                    continue\n",
    "                   \n",
    "        pc_torch = torch.from_numpy(pc_numpy).unsqueeze(0)\n",
    "\n",
    "        data_samples.append(pc_torch)\n",
    "\n",
    "data_samples = torch.cat(data_samples, dim=0)\n",
    "\n",
    "data_samples.shape"
   ]
  },
  {
   "cell_type": "code",
   "execution_count": null,
   "id": "ec5df63c",
   "metadata": {},
   "outputs": [],
   "source": [
    "def plot_samples(samples, num=8, rows=2, cols=4):\n",
    "    fig = plt.subplots.make_subplots(\n",
    "        rows=rows,\n",
    "        cols=cols,\n",
    "        specs=[[{\"type\": \"Scatter3d\"} for _ in range(cols)] for _ in range(rows)],\n",
    "    )\n",
    "    indices = torch.randperm(samples.size(0))[:num]\n",
    "    for i, sample in enumerate(samples[indices].cpu()):\n",
    "        fig.add_trace(\n",
    "            plt.graph_objects.Scatter3d(\n",
    "                x=sample[:, 0],\n",
    "                y=sample[:, 2],\n",
    "                z=sample[:, 1],\n",
    "                mode=\"markers\",\n",
    "                marker=dict(size=3, opacity=0.8),\n",
    "            ),\n",
    "            row=i // cols + 1,\n",
    "            col=i % cols + 1,\n",
    "        )\n",
    "    fig.update_layout(showlegend=False)\n",
    "    return fig"
   ]
  },
  {
   "cell_type": "code",
   "execution_count": null,
   "id": "e84f774a",
   "metadata": {},
   "outputs": [],
   "source": [
    "plot_samples(data_samples)"
   ]
  },
  {
   "cell_type": "code",
   "execution_count": null,
   "id": "ea6376f6",
   "metadata": {},
   "outputs": [],
   "source": []
  }
 ],
 "metadata": {
  "kernelspec": {
   "display_name": "Python 3",
   "language": "python",
   "name": "python3"
  },
  "language_info": {
   "codemirror_mode": {
    "name": "ipython",
    "version": 3
   },
   "file_extension": ".py",
   "mimetype": "text/x-python",
   "name": "python",
   "nbconvert_exporter": "python",
   "pygments_lexer": "ipython3",
   "version": "3.6.13"
  }
 },
 "nbformat": 4,
 "nbformat_minor": 5
}
