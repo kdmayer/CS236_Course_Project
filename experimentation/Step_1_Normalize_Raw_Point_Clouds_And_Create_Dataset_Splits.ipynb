{
 "cells": [
  {
   "cell_type": "code",
   "execution_count": null,
   "id": "358d2e15",
   "metadata": {},
   "outputs": [],
   "source": [
    "import sys\n",
    "sys.path.append('/Users/kevin/Projects/CS236_Course_Project')"
   ]
  },
  {
   "cell_type": "code",
   "execution_count": null,
   "id": "c091c62b",
   "metadata": {},
   "outputs": [],
   "source": [
    "import plotly as plt\n",
    "import numpy as np\n",
    "import random\n",
    "import shutil\n",
    "import torch\n",
    "import os\n",
    "\n",
    "from tqdm import tqdm\n",
    "from src.utils import normalize_pc"
   ]
  },
  {
   "cell_type": "code",
   "execution_count": null,
   "id": "cb3479ed",
   "metadata": {},
   "outputs": [],
   "source": [
    "INPUT_DATA_DIR = \"/Users/kevin/Projects/CS236_Course_Project/E06000014_npy_raw\"\n",
    "OUTPUT_DATA_DIR = \"/Users/kevin/Projects/CS236_Course_Project/E06000014_npy_normalized\"\n",
    "\n",
    "TRAIN_SPLIT = 0.8\n",
    "VAL_TEST_SPLIT = 0.1"
   ]
  },
  {
   "cell_type": "code",
   "execution_count": null,
   "id": "6b353088",
   "metadata": {},
   "outputs": [],
   "source": [
    "for file in tqdm(os.listdir(INPUT_DATA_DIR)):\n",
    "    \n",
    "    if file.endswith(\".npy\"):\n",
    "        \n",
    "        pc_numpy = np.load(os.path.join(INPUT_DATA_DIR, file))\n",
    "\n",
    "        if pc_numpy.shape[0] >= 500:\n",
    "            \n",
    "            # Sample 500 random points from the raw point cloud\n",
    "            pc_numpy_sampled = pc_numpy[np.random.choice(pc_numpy.shape[0], 500, replace=False), :]\n",
    "                    \n",
    "            # Normalize points so each building lies within the unit sphere\n",
    "            pc_numpy_normalized = normalize_pc(pc_numpy_sampled)\n",
    "            \n",
    "            # Save normalized point cloud to OUTPUT_DATA_DIR\n",
    "            np.save(os.path.join(OUTPUT_DATA_DIR, file), pc_numpy_normalized)"
   ]
  },
  {
   "cell_type": "code",
   "execution_count": null,
   "id": "48dc5dcf",
   "metadata": {},
   "outputs": [],
   "source": [
    "file_list = []\n",
    "\n",
    "for file in os.listdir(OUTPUT_DATA_DIR):\n",
    "    \n",
    "    if file.endswith(\".npy\"):\n",
    "        \n",
    "        file_list.append(file)\n",
    "\n",
    "len(file_list)"
   ]
  },
  {
   "cell_type": "code",
   "execution_count": null,
   "id": "5459604c",
   "metadata": {},
   "outputs": [],
   "source": [
    "def split_dataset(file_list, train_split, val_test_split):\n",
    "    \n",
    "    # Randomly sample training samples\n",
    "    training_samples = random.sample(file_list, int(train_split * len(file_list)))\n",
    "    print(f\"# of training samples: {len(training_samples)}\")\n",
    "\n",
    "    # Create a new list without the training samples\n",
    "    val_test_samples = [file for file in file_list if file not in training_samples]\n",
    "    validation_samples = random.sample(val_test_samples, int(val_test_split * len(file_list)))\n",
    "    print(f\"# of validation samples: {len(validation_samples)}\")\n",
    "\n",
    "    test_samples = [file for file in val_test_samples if file not in validation_samples]\n",
    "    print(f\"# of test samples: {len(test_samples)}\")\n",
    "    \n",
    "    return training_samples, validation_samples, test_samples\n",
    "    \n",
    "def save_dataset(data_samples, directory_path):\n",
    "    \n",
    "    [shutil.copyfile(os.path.join(OUTPUT_DATA_DIR, file), os.path.join(directory_path, file)) for file in data_samples if file.endswith(\".npy\")]"
   ]
  },
  {
   "cell_type": "code",
   "execution_count": null,
   "id": "1bdfd89a",
   "metadata": {},
   "outputs": [],
   "source": [
    "train, val, test = split_dataset(file_list, TRAIN_SPLIT, VAL_TEST_SPLIT)"
   ]
  },
  {
   "cell_type": "code",
   "execution_count": null,
   "id": "5073646a",
   "metadata": {},
   "outputs": [],
   "source": [
    "save_dataset(train, \"/Users/kevin/Projects/CS236_Course_Project/data/Train\")\n",
    "save_dataset(val, \"/Users/kevin/Projects/CS236_Course_Project/data/Val\")\n",
    "save_dataset(test, \"/Users/kevin/Projects/CS236_Course_Project/data/Test\")"
   ]
  },
  {
   "cell_type": "code",
   "execution_count": null,
   "id": "c606d920",
   "metadata": {},
   "outputs": [],
   "source": []
  }
 ],
 "metadata": {
  "kernelspec": {
   "display_name": "Python 3",
   "language": "python",
   "name": "python3"
  },
  "language_info": {
   "codemirror_mode": {
    "name": "ipython",
    "version": 3
   },
   "file_extension": ".py",
   "mimetype": "text/x-python",
   "name": "python",
   "nbconvert_exporter": "python",
   "pygments_lexer": "ipython3",
   "version": "3.6.13"
  }
 },
 "nbformat": 4,
 "nbformat_minor": 5
}
