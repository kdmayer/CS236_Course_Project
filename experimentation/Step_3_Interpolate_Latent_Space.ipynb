{
 "cells": [
  {
   "cell_type": "code",
   "execution_count": null,
   "id": "101938ed",
   "metadata": {},
   "outputs": [],
   "source": [
    "import sys\n",
    "sys.path.append('/Users/kevin/Projects/CS236_Course_Project')"
   ]
  },
  {
   "cell_type": "code",
   "execution_count": null,
   "id": "87cb4cc2",
   "metadata": {},
   "outputs": [],
   "source": [
    "import plotly.graph_objs as go\n",
    "import plotly as plt\n",
    "import numpy as np\n",
    "import torch\n",
    "import os\n",
    "\n",
    "from src.model import Generator\n",
    "from src.trainer import Trainer\n",
    "from src.metrics import compute_metrics"
   ]
  },
  {
   "cell_type": "code",
   "execution_count": null,
   "id": "6eda1973",
   "metadata": {},
   "outputs": [],
   "source": [
    "BATCH_SIZE = 1\n",
    "DEVICE = \"cuda:0\" if torch.cuda.is_available() else \"cpu\"\n",
    "CKPT_PATH = \"/Users/kevin/Projects/CS236_Course_Project/checkpoints/sinkhorn_energy_gaussian_laplacian_2023-12-02_14-11-58/100.pth\""
   ]
  },
  {
   "cell_type": "code",
   "execution_count": null,
   "id": "b6a62553",
   "metadata": {},
   "outputs": [],
   "source": [
    "# Load point cloud file\n",
    "real_pc_one = torch.from_numpy(np.load(\"/Users/kevin/Projects/CS236_Course_Project/mock_data/Interpolation_Input/451538.3649744024_453403.8224102564.npy\")).unsqueeze(0)\n",
    "real_pc_two = torch.from_numpy(np.load(\"/Users/kevin/Projects/CS236_Course_Project/mock_data/Interpolation_Input/451515.58559582283_453466.15672443836.npy\")).unsqueeze(0)"
   ]
  },
  {
   "cell_type": "code",
   "execution_count": null,
   "id": "9cb25ffe",
   "metadata": {},
   "outputs": [],
   "source": [
    "def visualize_point_cloud(data: np.ndarray):\n",
    "    # Assuming your data is a NumPy array of shape [1000, 3]\n",
    "    # Create 3D scatter plot\n",
    "    trace = go.Scatter3d(\n",
    "        x=data[:, 0],\n",
    "        y=data[:, 1],\n",
    "        z=data[:, 2],\n",
    "        mode='markers',\n",
    "        marker=dict(\n",
    "            size=3,\n",
    "            color=data[:, 2],  # You can use another column for color\n",
    "            colorscale='Viridis',\n",
    "            opacity=0.8\n",
    "        )\n",
    "    )\n",
    "\n",
    "    # Create layout\n",
    "    layout = go.Layout(scene=dict(aspectmode='data'))\n",
    "\n",
    "    # Create figure\n",
    "    fig = go.Figure(data=[trace], layout=layout)\n",
    "\n",
    "    # Show the plot\n",
    "    fig.show()\n",
    "    \n",
    "def plot_samples(samples, num=5, rows=2, cols=3):\n",
    "    fig = plt.subplots.make_subplots(\n",
    "        rows=rows,\n",
    "        cols=cols,\n",
    "        specs=[[{\"type\": \"Scatter3d\"} for _ in range(cols)] for _ in range(rows)],\n",
    "    )\n",
    "\n",
    "    for i, sample in enumerate(samples):\n",
    "        fig.add_trace(\n",
    "            plt.graph_objects.Scatter3d(\n",
    "                x=sample[:, 0],\n",
    "                y=sample[:, 2],\n",
    "                z=sample[:, 1],\n",
    "                mode=\"markers\",\n",
    "                marker=dict(size=3, opacity=0.8),\n",
    "            ),\n",
    "            row=i // cols + 1,\n",
    "            col=i % cols + 1,\n",
    "        )\n",
    "    fig.update_layout(showlegend=False)\n",
    "    return fig"
   ]
  },
  {
   "cell_type": "code",
   "execution_count": null,
   "id": "0f135f77",
   "metadata": {},
   "outputs": [],
   "source": [
    "# Load trained generator model checkpoint \n",
    "\n",
    "# Setup model\n",
    "net_g = Generator()\n",
    "net_g.eval()\n",
    "\n",
    "# Setup trainer\n",
    "trainer = Trainer(net_g=net_g, batch_size=BATCH_SIZE, device=DEVICE)\n",
    "\n",
    "# Load checkpoint\n",
    "trainer.load_checkpoint(CKPT_PATH)"
   ]
  },
  {
   "cell_type": "code",
   "execution_count": null,
   "id": "79edabfe",
   "metadata": {},
   "outputs": [],
   "source": [
    "_, z1_one = net_g(real_pc_one)\n",
    "_, z1_two = net_g(real_pc_two)"
   ]
  },
  {
   "cell_type": "code",
   "execution_count": null,
   "id": "7a16210b",
   "metadata": {},
   "outputs": [],
   "source": [
    "# Check shape of z1 vectors\n",
    "z1_one.shape"
   ]
  },
  {
   "cell_type": "code",
   "execution_count": null,
   "id": "eaf0366e",
   "metadata": {},
   "outputs": [],
   "source": [
    "# Vector a is defined as going from z1_one to z1_two\n",
    "a = z1_two.squeeze() - z1_one.squeeze()\n",
    "a.shape"
   ]
  },
  {
   "cell_type": "code",
   "execution_count": null,
   "id": "f24e1b49",
   "metadata": {},
   "outputs": [],
   "source": [
    "latent_codes = []\n",
    "interpolation_steps = 3\n",
    "\n",
    "for step in range(interpolation_steps+1):\n",
    "    if step == 0:\n",
    "        latent_codes.append(z1_one)\n",
    "    else:\n",
    "        latent_vector = z1_one + (step/interpolation_steps) * a\n",
    "        latent_codes.append(latent_vector)\n",
    "\n",
    "latent_codes.append(z1_two)"
   ]
  },
  {
   "cell_type": "code",
   "execution_count": null,
   "id": "6c3fba2d",
   "metadata": {},
   "outputs": [],
   "source": [
    "generated_samples = []\n",
    "\n",
    "for z1 in latent_codes:\n",
    "    \n",
    "    decoded_output = net_g.decode(z1, 1, 500, DEVICE, interpolating=True).squeeze().detach().numpy()\n",
    "    \n",
    "    generated_samples.append(decoded_output)\n",
    "\n",
    "plot_samples(generated_samples)"
   ]
  },
  {
   "cell_type": "code",
   "execution_count": null,
   "id": "3f1edea4",
   "metadata": {},
   "outputs": [],
   "source": [
    "import open3d as o3d\n",
    "\n",
    "for idx, sample in enumerate(generated_samples):\n",
    "    \n",
    "    # Save normalized point cloud to Interpolation_Output as .npy file\n",
    "    np.save(os.path.join(\"/Users/kevin/Projects/CS236_Course_Project/mock_data/Interpolation_Output\", str(idx)), sample)\n",
    "    \n",
    "    # Save normalized point cloud to Interpolation_Output as .ply file\n",
    "    pcd = o3d.geometry.PointCloud()\n",
    "    pcd.points = o3d.utility.Vector3dVector(sample)\n",
    "    o3d.io.write_point_cloud(f\"/Users/kevin/Projects/CS236_Course_Project/mock_data/Interpolation_Output/{idx}.ply\", pcd)"
   ]
  }
 ],
 "metadata": {
  "kernelspec": {
   "display_name": "Python 3",
   "language": "python",
   "name": "python3"
  },
  "language_info": {
   "codemirror_mode": {
    "name": "ipython",
    "version": 3
   },
   "file_extension": ".py",
   "mimetype": "text/x-python",
   "name": "python",
   "nbconvert_exporter": "python",
   "pygments_lexer": "ipython3",
   "version": "3.6.13"
  }
 },
 "nbformat": 4,
 "nbformat_minor": 5
}
