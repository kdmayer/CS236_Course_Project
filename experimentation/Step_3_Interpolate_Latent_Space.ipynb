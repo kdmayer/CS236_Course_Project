{
 "cells": [
  {
   "cell_type": "code",
   "execution_count": 1,
   "id": "87cb4cc2",
   "metadata": {},
   "outputs": [],
   "source": [
    "import torch"
   ]
  },
  {
   "cell_type": "code",
   "execution_count": 2,
   "id": "0f135f77",
   "metadata": {},
   "outputs": [],
   "source": [
    "# Load trained generator model checkpoint "
   ]
  },
  {
   "cell_type": "code",
   "execution_count": 3,
   "id": "d0cac8e2",
   "metadata": {},
   "outputs": [],
   "source": [
    "# Generate two random samples and visualize them"
   ]
  },
  {
   "cell_type": "code",
   "execution_count": null,
   "id": "76bc0caf",
   "metadata": {},
   "outputs": [],
   "source": [
    "# Sample 5 equally spaced points on the vector between the two and visualize them, too"
   ]
  }
 ],
 "metadata": {
  "kernelspec": {
   "display_name": "Python 3",
   "language": "python",
   "name": "python3"
  },
  "language_info": {
   "codemirror_mode": {
    "name": "ipython",
    "version": 3
   },
   "file_extension": ".py",
   "mimetype": "text/x-python",
   "name": "python",
   "nbconvert_exporter": "python",
   "pygments_lexer": "ipython3",
   "version": "3.6.13"
  }
 },
 "nbformat": 4,
 "nbformat_minor": 5
}
