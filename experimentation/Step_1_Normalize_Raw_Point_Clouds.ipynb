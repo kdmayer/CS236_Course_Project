{
 "cells": [
  {
   "cell_type": "code",
   "execution_count": null,
   "id": "7ca73bc2",
   "metadata": {},
   "outputs": [],
   "source": [
    "import sys\n",
    "sys.path.append('/Users/kevin/Projects/CS236_Course_Project')"
   ]
  },
  {
   "cell_type": "code",
   "execution_count": null,
   "id": "6316c7f0",
   "metadata": {},
   "outputs": [],
   "source": [
    "import plotly as plt\n",
    "import numpy as np\n",
    "import torch\n",
    "import os\n",
    "\n",
    "from tqdm import tqdm\n",
    "from src.utils import normalize_pc"
   ]
  },
  {
   "cell_type": "code",
   "execution_count": null,
   "id": "4170e1cc",
   "metadata": {},
   "outputs": [],
   "source": [
    "INPUT_DATA_DIR = \"/Users/kevin/Projects/CS236_Course_Project/E06000014_npy_raw\"\n",
    "OUTPUT_DATA_DIR = \"/Users/kevin/Projects/CS236_Course_Project/E06000014_npy_normalized\""
   ]
  },
  {
   "cell_type": "code",
   "execution_count": null,
   "id": "4552fe3a",
   "metadata": {},
   "outputs": [],
   "source": [
    "for file in tqdm(os.listdir(INPUT_DATA_DIR)):\n",
    "    \n",
    "    if file.endswith(\".npy\"):\n",
    "        \n",
    "        pc_numpy = np.load(os.path.join(INPUT_DATA_DIR, file))\n",
    "\n",
    "        if pc_numpy.shape[0] >= 500:\n",
    "            \n",
    "            # Sample 500 random points from the raw point cloud\n",
    "            pc_numpy_sampled = pc_numpy[np.random.choice(pc_numpy.shape[0], 500, replace=False), :]\n",
    "                    \n",
    "            # Normalize points so each building lies within the unit sphere\n",
    "            pc_numpy_normalized = normalize_pc(pc_numpy_sampled)\n",
    "            \n",
    "            # Save normalized point cloud to OUTPUT_DATA_DIR\n",
    "            np.save(os.path.join(OUTPUT_DATA_DIR, file), pc_numpy_normalized)"
   ]
  },
  {
   "cell_type": "code",
   "execution_count": null,
   "id": "a7133516",
   "metadata": {},
   "outputs": [],
   "source": []
  }
 ],
 "metadata": {
  "kernelspec": {
   "display_name": "Python 3",
   "language": "python",
   "name": "python3"
  },
  "language_info": {
   "codemirror_mode": {
    "name": "ipython",
    "version": 3
   },
   "file_extension": ".py",
   "mimetype": "text/x-python",
   "name": "python",
   "nbconvert_exporter": "python",
   "pygments_lexer": "ipython3",
   "version": "3.6.13"
  }
 },
 "nbformat": 4,
 "nbformat_minor": 5
}
