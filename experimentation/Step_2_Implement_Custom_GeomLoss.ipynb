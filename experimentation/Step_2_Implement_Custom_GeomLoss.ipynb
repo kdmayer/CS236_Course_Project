{
 "cells": [
  {
   "cell_type": "code",
   "execution_count": null,
   "id": "18f5138f",
   "metadata": {},
   "outputs": [],
   "source": [
    "import sys\n",
    "sys.path.append('/Users/kevin/Projects/CS236_Course_Project')"
   ]
  },
  {
   "cell_type": "code",
   "execution_count": null,
   "id": "3a8e9796",
   "metadata": {},
   "outputs": [],
   "source": [
    "import numpy as np\n",
    "import torch\n",
    "\n",
    "device = \"cuda:0\" if torch.cuda.is_available() else \"cpu\"\n",
    "\n",
    "# Load example point cloud 1\n",
    "generated_point_cloud = torch.from_numpy(np.load(\"/Users/kevin/Projects/CS236_Course_Project/mock_data/Train/451430.8410587023_453206.7730480174.npy\")).to(device)\n",
    "\n",
    "# Load example point cloud 2\n",
    "real_point_cloud = torch.from_numpy(np.load(\"/Users/kevin/Projects/CS236_Course_Project/mock_data/Train/451515.58559582283_453466.15672443836.npy\")).to(device)"
   ]
  },
  {
   "cell_type": "code",
   "execution_count": null,
   "id": "50131c99",
   "metadata": {},
   "outputs": [],
   "source": [
    "generator_loss_type = [\"energy\", \"laplacian\"]"
   ]
  },
  {
   "cell_type": "code",
   "execution_count": null,
   "id": "240b60ce",
   "metadata": {},
   "outputs": [],
   "source": [
    "# Note: This is a simplified version of the code in trainer._train_step_g() for demonstration purposes\n",
    "def generator_loss(generator_loss_type, generated_point_cloud, real_point_cloud):\n",
    "    if len(generator_loss_type) != 0:\n",
    "        \n",
    "        import geomloss\n",
    "        mean_geom_loss = 0\n",
    "        for loss_type in generator_loss_type:\n",
    "            assert loss_type in [\"sinkhorn\", \"energy\", \"gaussian\", \"laplacian\"]\n",
    "            loss = geomloss.SamplesLoss(loss=loss_type, p=2, blur=.05)\n",
    "            geom_loss = loss(generated_point_cloud, real_point_cloud)\n",
    "            # Average loss over all elements in the batch\n",
    "            mean_geom_loss += geom_loss.mean() \n",
    "        \n",
    "        # Average loss by the number of losses being added\n",
    "        mean_geom_loss /= len(generator_loss_type)\n",
    "        return mean_geom_loss"
   ]
  },
  {
   "cell_type": "code",
   "execution_count": null,
   "id": "e79b7fa5",
   "metadata": {},
   "outputs": [],
   "source": [
    "loss = generator_loss(generator_loss_type, generated_point_cloud, real_point_cloud)\n",
    "print(loss)"
   ]
  },
  {
   "cell_type": "code",
   "execution_count": null,
   "id": "e556e010",
   "metadata": {},
   "outputs": [],
   "source": []
  }
 ],
 "metadata": {
  "kernelspec": {
   "display_name": "Python 3",
   "language": "python",
   "name": "python3"
  },
  "language_info": {
   "codemirror_mode": {
    "name": "ipython",
    "version": 3
   },
   "file_extension": ".py",
   "mimetype": "text/x-python",
   "name": "python",
   "nbconvert_exporter": "python",
   "pygments_lexer": "ipython3",
   "version": "3.6.13"
  }
 },
 "nbformat": 4,
 "nbformat_minor": 5
}
