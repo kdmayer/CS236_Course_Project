{
 "cells": [
  {
   "cell_type": "code",
   "execution_count": null,
   "id": "42ba7cc4",
   "metadata": {},
   "outputs": [],
   "source": [
    "import plotly as plt\n",
    "import numpy as np\n",
    "import torch\n",
    "import os"
   ]
  },
  {
   "cell_type": "code",
   "execution_count": null,
   "id": "00f7616b",
   "metadata": {},
   "outputs": [],
   "source": [
    "data_dir = \"/Users/kevin/Projects/CS236_Course_Project/mock_data/Train\""
   ]
  },
  {
   "cell_type": "code",
   "execution_count": null,
   "outputs": [],
   "source": [
    "def normalize_pc(point_cloud):\n",
    "\n",
    "    # Find the range for each axis and then the max range\n",
    "    mins = np.min(point_cloud, axis=0)\n",
    "    maxs = np.max(point_cloud, axis=0)\n",
    "    ranges = maxs - mins\n",
    "    max_range = np.max(ranges)\n",
    "\n",
    "    # Handle the case where max range is 0 (to prevent division by zero)\n",
    "    if max_range == 0:\n",
    "        raise ValueError(\"Point cloud has zero range.\")\n",
    "\n",
    "    # Normalize the point cloud using the same scale for all axes and then\n",
    "    # shift to [-1, 1]\n",
    "    pc_normalized = 2 * (point_cloud - mins) / max_range - 1\n",
    "\n",
    "    # Now we want everything to fit in -1,1, but without touching these bounds.\n",
    "    pc_normalized = pc_normalized * 0.999\n",
    "    pc_normalized = pc_normalized.astype(np.float32)\n",
    "\n",
    "    return pc_normalized"
   ],
   "metadata": {
    "collapsed": false
   }
  },
  {
   "cell_type": "code",
   "execution_count": null,
   "id": "e588ec87",
   "metadata": {},
   "outputs": [],
   "source": [
    "mock_data = []\n",
    "\n",
    "for file in os.listdir(data_dir):\n",
    "    \n",
    "    if file.endswith(\".npy\"):\n",
    "        \n",
    "        pc_numpy = np.load(os.path.join(data_dir, file))\n",
    "\n",
    "        if pc_numpy.shape[0] >= 500:\n",
    "\n",
    "            pc_numpy_normalized = normalize_pc(pc_numpy)\n",
    "\n",
    "            pc_numpy_normalized_sampled = pc_numpy[np.random.choice(pc_numpy.shape[0], 500, replace=False), :]\n",
    "\n",
    "            pc_torch = torch.from_numpy(pc_numpy_normalized_sampled).unsqueeze(0)\n",
    "\n",
    "            mock_data.append(pc_torch)\n",
    "\n",
    "mock_data = torch.cat(mock_data, dim=0)\n",
    "\n",
    "mock_data.shape"
   ]
  },
  {
   "cell_type": "code",
   "execution_count": null,
   "id": "8ae16d43",
   "metadata": {},
   "outputs": [],
   "source": [
    "mock_data = torch.index_select(mock_data, 0, torch.tensor([0, 1, 2, 3, 4, 5, 6, 7]))"
   ]
  },
  {
   "cell_type": "code",
   "execution_count": null,
   "id": "16ee7072",
   "metadata": {},
   "outputs": [],
   "source": [
    "mock_data.shape"
   ]
  },
  {
   "cell_type": "code",
   "execution_count": null,
   "id": "ec5df63c",
   "metadata": {},
   "outputs": [],
   "source": [
    "def plot_samples(samples, num=8, rows=2, cols=4):\n",
    "    fig = plt.subplots.make_subplots(\n",
    "        rows=rows,\n",
    "        cols=cols,\n",
    "        specs=[[{\"type\": \"Scatter3d\"} for _ in range(cols)] for _ in range(rows)],\n",
    "    )\n",
    "    indices = torch.randperm(samples.size(0))[:num]\n",
    "    for i, sample in enumerate(samples[indices].cpu()):\n",
    "        fig.add_trace(\n",
    "            plt.graph_objects.Scatter3d(\n",
    "                x=sample[:, 0],\n",
    "                y=sample[:, 2],\n",
    "                z=sample[:, 1],\n",
    "                mode=\"markers\",\n",
    "                marker=dict(size=3, opacity=0.8),\n",
    "            ),\n",
    "            row=i // cols + 1,\n",
    "            col=i % cols + 1,\n",
    "        )\n",
    "    fig.update_layout(showlegend=False)\n",
    "    return fig"
   ]
  },
  {
   "cell_type": "code",
   "execution_count": null,
   "id": "e84f774a",
   "metadata": {},
   "outputs": [],
   "source": [
    "plot_samples(mock_data)"
   ]
  },
  {
   "cell_type": "code",
   "execution_count": null,
   "id": "ea6376f6",
   "metadata": {},
   "outputs": [],
   "source": []
  }
 ],
 "metadata": {
  "kernelspec": {
   "display_name": "Python 3",
   "language": "python",
   "name": "python3"
  },
  "language_info": {
   "codemirror_mode": {
    "name": "ipython",
    "version": 3
   },
   "file_extension": ".py",
   "mimetype": "text/x-python",
   "name": "python",
   "nbconvert_exporter": "python",
   "pygments_lexer": "ipython3",
   "version": "3.6.13"
  }
 },
 "nbformat": 4,
 "nbformat_minor": 5
}
