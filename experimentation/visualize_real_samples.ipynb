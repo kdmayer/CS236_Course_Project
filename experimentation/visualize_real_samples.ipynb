{
 "cells": [
  {
   "cell_type": "code",
   "execution_count": null,
   "id": "42ba7cc4",
   "metadata": {},
   "outputs": [],
   "source": [
    "import plotly as plt\n",
    "import numpy as np\n",
    "import torch\n",
    "import os"
   ]
  },
  {
   "cell_type": "code",
   "execution_count": null,
   "id": "00f7616b",
   "metadata": {},
   "outputs": [],
   "source": [
    "data_dir = \"/users/kevin/desktop/coventry_building_pc_data\""
   ]
  },
  {
   "cell_type": "code",
   "execution_count": null,
   "id": "e588ec87",
   "metadata": {},
   "outputs": [],
   "source": [
    "mock_data = []\n",
    "\n",
    "for file in os.listdir(data_dir):\n",
    "    \n",
    "    if file.endswith(\".npy\"):\n",
    "        \n",
    "        pc = torch.from_numpy(np.load(os.path.join(data_dir, file)))\n",
    "        \n",
    "        pc = pc.unsqueeze(0)\n",
    "        \n",
    "        mock_data.append(pc)\n",
    "        \n",
    "mock_data = torch.cat(mock_data, dim=0)\n",
    "mock_data.shape        "
   ]
  },
  {
   "cell_type": "code",
   "execution_count": null,
   "id": "8ae16d43",
   "metadata": {},
   "outputs": [],
   "source": [
    "mock_data = torch.index_select(mock_data, 0, torch.tensor([0, 1, 2, 3, 4, 5, 6, 7]))"
   ]
  },
  {
   "cell_type": "code",
   "execution_count": null,
   "id": "16ee7072",
   "metadata": {},
   "outputs": [],
   "source": [
    "mock_data.shape"
   ]
  },
  {
   "cell_type": "code",
   "execution_count": null,
   "id": "ec5df63c",
   "metadata": {},
   "outputs": [],
   "source": [
    "def plot_samples(samples, num=8, rows=2, cols=4):\n",
    "    fig = plt.subplots.make_subplots(\n",
    "        rows=rows,\n",
    "        cols=cols,\n",
    "        specs=[[{\"type\": \"Scatter3d\"} for _ in range(cols)] for _ in range(rows)],\n",
    "    )\n",
    "    indices = torch.randperm(samples.size(0))[:num]\n",
    "    for i, sample in enumerate(samples[indices].cpu()):\n",
    "        fig.add_trace(\n",
    "            plt.graph_objects.Scatter3d(\n",
    "                x=sample[:, 0],\n",
    "                y=sample[:, 2],\n",
    "                z=sample[:, 1],\n",
    "                mode=\"markers\",\n",
    "                marker=dict(size=3, opacity=0.8),\n",
    "            ),\n",
    "            row=i // cols + 1,\n",
    "            col=i % cols + 1,\n",
    "        )\n",
    "    fig.update_layout(showlegend=False)\n",
    "    return fig"
   ]
  },
  {
   "cell_type": "code",
   "execution_count": null,
   "id": "e84f774a",
   "metadata": {},
   "outputs": [],
   "source": [
    "plot_samples(mock_data)"
   ]
  },
  {
   "cell_type": "code",
   "execution_count": null,
   "id": "ea6376f6",
   "metadata": {},
   "outputs": [],
   "source": []
  }
 ],
 "metadata": {
  "kernelspec": {
   "display_name": "Python 3",
   "language": "python",
   "name": "python3"
  },
  "language_info": {
   "codemirror_mode": {
    "name": "ipython",
    "version": 3
   },
   "file_extension": ".py",
   "mimetype": "text/x-python",
   "name": "python",
   "nbconvert_exporter": "python",
   "pygments_lexer": "ipython3",
   "version": "3.6.13"
  }
 },
 "nbformat": 4,
 "nbformat_minor": 5
}
